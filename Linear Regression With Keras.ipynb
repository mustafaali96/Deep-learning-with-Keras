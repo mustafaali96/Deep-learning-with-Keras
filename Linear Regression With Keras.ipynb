{
 "cells": [
  {
   "cell_type": "code",
   "execution_count": 1,
   "metadata": {},
   "outputs": [
    {
     "name": "stderr",
     "output_type": "stream",
     "text": [
      "C:\\ProgramData\\Anaconda3\\lib\\site-packages\\h5py\\__init__.py:36: FutureWarning: Conversion of the second argument of issubdtype from `float` to `np.floating` is deprecated. In future, it will be treated as `np.float64 == np.dtype(float).type`.\n",
      "  from ._conv import register_converters as _register_converters\n",
      "Using TensorFlow backend.\n"
     ]
    }
   ],
   "source": [
    "from keras.models import Sequential\n",
    "from keras.layers import Dense \n",
    "from keras.optimizers import Adam, SGD\n",
    "\n",
    "%matplotlib inline\n",
    "import matplotlib.pyplot as plt\n",
    "import numpy as np\n",
    "import pandas as pd"
   ]
  },
  {
   "cell_type": "code",
   "execution_count": 3,
   "metadata": {},
   "outputs": [],
   "source": [
    "df=pd.read_csv('weight-height.csv')"
   ]
  },
  {
   "cell_type": "code",
   "execution_count": 4,
   "metadata": {},
   "outputs": [],
   "source": [
    "X=df[['Height']].values\n",
    "y_true=df[['Weight']].values"
   ]
  },
  {
   "cell_type": "code",
   "execution_count": 5,
   "metadata": {},
   "outputs": [
    {
     "data": {
      "text/plain": [
       "array([[73.84701702],\n",
       "       [68.78190405],\n",
       "       [74.11010539],\n",
       "       ...,\n",
       "       [63.86799221],\n",
       "       [69.03424313],\n",
       "       [61.94424588]])"
      ]
     },
     "execution_count": 5,
     "metadata": {},
     "output_type": "execute_result"
    }
   ],
   "source": [
    "X"
   ]
  },
  {
   "cell_type": "code",
   "execution_count": 6,
   "metadata": {},
   "outputs": [],
   "source": [
    "model = Sequential()\n",
    "model.add(Dense(1, input_shape=(1,)))"
   ]
  },
  {
   "cell_type": "code",
   "execution_count": 7,
   "metadata": {},
   "outputs": [
    {
     "name": "stdout",
     "output_type": "stream",
     "text": [
      "_________________________________________________________________\n",
      "Layer (type)                 Output Shape              Param #   \n",
      "=================================================================\n",
      "dense_1 (Dense)              (None, 1)                 2         \n",
      "=================================================================\n",
      "Total params: 2\n",
      "Trainable params: 2\n",
      "Non-trainable params: 0\n",
      "_________________________________________________________________\n"
     ]
    }
   ],
   "source": [
    "model.summary()"
   ]
  },
  {
   "cell_type": "code",
   "execution_count": 8,
   "metadata": {},
   "outputs": [],
   "source": [
    "model.compile(Adam(lr=0.8), 'mean_squared_error')"
   ]
  },
  {
   "cell_type": "code",
   "execution_count": 9,
   "metadata": {},
   "outputs": [
    {
     "name": "stdout",
     "output_type": "stream",
     "text": [
      "Epoch 1/40\n",
      "10000/10000 [==============================] - 3s 293us/step - loss: 1467.8524\n",
      "Epoch 2/40\n",
      "10000/10000 [==============================] - 0s 45us/step - loss: 562.4120\n",
      "Epoch 3/40\n",
      "10000/10000 [==============================] - 0s 45us/step - loss: 534.4522\n",
      "Epoch 4/40\n",
      "10000/10000 [==============================] - 1s 56us/step - loss: 503.0205\n",
      "Epoch 5/40\n",
      "10000/10000 [==============================] - 1s 51us/step - loss: 469.3220\n",
      "Epoch 6/40\n",
      "10000/10000 [==============================] - 1s 55us/step - loss: 424.4809\n",
      "Epoch 7/40\n",
      "10000/10000 [==============================] - 0s 44us/step - loss: 392.1283\n",
      "Epoch 8/40\n",
      "10000/10000 [==============================] - 0s 42us/step - loss: 353.2534\n",
      "Epoch 9/40\n",
      "10000/10000 [==============================] - 0s 42us/step - loss: 310.8442\n",
      "Epoch 10/40\n",
      "10000/10000 [==============================] - 0s 44us/step - loss: 290.8007\n",
      "Epoch 11/40\n",
      "10000/10000 [==============================] - 1s 54us/step - loss: 282.7644\n",
      "Epoch 12/40\n",
      "10000/10000 [==============================] - 0s 42us/step - loss: 250.0325\n",
      "Epoch 13/40\n",
      "10000/10000 [==============================] - 0s 45us/step - loss: 231.0808\n",
      "Epoch 14/40\n",
      "10000/10000 [==============================] - 1s 55us/step - loss: 218.3799\n",
      "Epoch 15/40\n",
      "10000/10000 [==============================] - 0s 48us/step - loss: 204.6366\n",
      "Epoch 16/40\n",
      "10000/10000 [==============================] - 0s 38us/step - loss: 203.0915\n",
      "Epoch 17/40\n",
      "10000/10000 [==============================] - 0s 39us/step - loss: 203.9949\n",
      "Epoch 18/40\n",
      "10000/10000 [==============================] - 0s 47us/step - loss: 188.6372\n",
      "Epoch 19/40\n",
      "10000/10000 [==============================] - 0s 41us/step - loss: 190.1958\n",
      "Epoch 20/40\n",
      "10000/10000 [==============================] - 0s 43us/step - loss: 199.2711\n",
      "Epoch 21/40\n",
      "10000/10000 [==============================] - 1s 51us/step - loss: 186.6280\n",
      "Epoch 22/40\n",
      "10000/10000 [==============================] - 0s 43us/step - loss: 185.5209\n",
      "Epoch 23/40\n",
      "10000/10000 [==============================] - 0s 42us/step - loss: 170.8896\n",
      "Epoch 24/40\n",
      "10000/10000 [==============================] - 0s 47us/step - loss: 175.2053\n",
      "Epoch 25/40\n",
      "10000/10000 [==============================] - 0s 46us/step - loss: 185.3715\n",
      "Epoch 26/40\n",
      "10000/10000 [==============================] - 0s 48us/step - loss: 179.9429\n",
      "Epoch 27/40\n",
      "10000/10000 [==============================] - 0s 46us/step - loss: 175.1799\n",
      "Epoch 28/40\n",
      "10000/10000 [==============================] - 1s 59us/step - loss: 172.9566\n",
      "Epoch 29/40\n",
      "10000/10000 [==============================] - 1s 52us/step - loss: 180.7311\n",
      "Epoch 30/40\n",
      "10000/10000 [==============================] - 1s 59us/step - loss: 171.6620\n",
      "Epoch 31/40\n",
      "10000/10000 [==============================] - 0s 49us/step - loss: 175.4653\n",
      "Epoch 32/40\n",
      "10000/10000 [==============================] - 0s 44us/step - loss: 173.8163\n",
      "Epoch 33/40\n",
      "10000/10000 [==============================] - 0s 41us/step - loss: 184.9685\n",
      "Epoch 34/40\n",
      "10000/10000 [==============================] - 1s 56us/step - loss: 184.1017\n",
      "Epoch 35/40\n",
      "10000/10000 [==============================] - 1s 55us/step - loss: 189.2410\n",
      "Epoch 36/40\n",
      "10000/10000 [==============================] - 1s 55us/step - loss: 177.4169\n",
      "Epoch 37/40\n",
      "10000/10000 [==============================] - 1s 54us/step - loss: 164.7619\n",
      "Epoch 38/40\n",
      "10000/10000 [==============================] - 0s 44us/step - loss: 176.2736\n",
      "Epoch 39/40\n",
      "10000/10000 [==============================] - 0s 40us/step - loss: 167.4107\n",
      "Epoch 40/40\n",
      "10000/10000 [==============================] - 0s 39us/step - loss: 174.4018\n"
     ]
    },
    {
     "data": {
      "text/plain": [
       "<keras.callbacks.History at 0x26723310780>"
      ]
     },
     "execution_count": 9,
     "metadata": {},
     "output_type": "execute_result"
    }
   ],
   "source": [
    "model.fit(X,y_true, epochs=40)"
   ]
  },
  {
   "cell_type": "code",
   "execution_count": 10,
   "metadata": {},
   "outputs": [],
   "source": [
    "y_pred=model.predict(X)"
   ]
  },
  {
   "cell_type": "code",
   "execution_count": 11,
   "metadata": {},
   "outputs": [
    {
     "data": {
      "text/plain": [
       "[<matplotlib.lines.Line2D at 0x26724937e80>]"
      ]
     },
     "execution_count": 11,
     "metadata": {},
     "output_type": "execute_result"
    },
    {
     "data": {
      "image/png": "[encoded data removed]",
      "text/plain": [
       "<Figure size 432x288 with 1 Axes>"
      ]
     },
     "metadata": {},
     "output_type": "display_data"
    }
   ],
   "source": [
    "df.plot(kind='scatter',\n",
    "       x='Height',\n",
    "       y='Weight', title='Weight and Height in adults')\n",
    "plt.plot(X, y_pred, color='red', linewidth=3)"
   ]
  },
  {
   "cell_type": "code",
   "execution_count": 14,
   "metadata": {},
   "outputs": [],
   "source": [
    "w,b=model.get_weights()"
   ]
  },
  {
   "cell_type": "code",
   "execution_count": 15,
   "metadata": {},
   "outputs": [
    {
     "data": {
      "text/plain": [
       "array([[7.6166215]], dtype=float32)"
      ]
     },
     "execution_count": 15,
     "metadata": {},
     "output_type": "execute_result"
    }
   ],
   "source": [
    "w"
   ]
  },
  {
   "cell_type": "code",
   "execution_count": 16,
   "metadata": {},
   "outputs": [
    {
     "data": {
      "text/plain": [
       "array([-347.75824], dtype=float32)"
      ]
     },
     "execution_count": 16,
     "metadata": {},
     "output_type": "execute_result"
    }
   ],
   "source": [
    "b"
   ]
  },
  {
   "cell_type": "code",
   "execution_count": null,
   "metadata": {},
   "outputs": [],
   "source": []
  }
 ],
 "metadata": {
  "kernelspec": {
   "display_name": "Python 3",
   "language": "python",
   "name": "python3"
  },
  "language_info": {
   "codemirror_mode": {
    "name": "ipython",
    "version": 3
   },
   "file_extension": ".py",
   "mimetype": "text/x-python",
   "name": "python",
   "nbconvert_exporter": "python",
   "pygments_lexer": "ipython3",
   "version": "3.6.5"
  }
 },
 "nbformat": 4,
 "nbformat_minor": 2
}
