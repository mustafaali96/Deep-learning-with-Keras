{
 "cells": [
  {
   "cell_type": "code",
   "execution_count": 1,
   "metadata": {},
   "outputs": [],
   "source": [
    "import os, shutil"
   ]
  },
  {
   "cell_type": "code",
   "execution_count": 2,
   "metadata": {},
   "outputs": [],
   "source": [
    "original_dataset_dir = 'C:\\\\Users\\Mustafa'"
   ]
  },
  {
   "cell_type": "code",
   "execution_count": 3,
   "metadata": {},
   "outputs": [],
   "source": [
    "base_dir = 'C:\\\\Users\\Mustafa\\cat_dog'\n"
   ]
  },
  {
   "cell_type": "code",
   "execution_count": 4,
   "metadata": {},
   "outputs": [],
   "source": [
    "train_dir = os.path.join(base_dir, 'train')"
   ]
  },
  {
   "cell_type": "code",
   "execution_count": 5,
   "metadata": {},
   "outputs": [],
   "source": [
    "validation_dir = os.path.join(base_dir, 'validation')\n",
    "test_dir = os.path.join(base_dir, 'test')"
   ]
  },
  {
   "cell_type": "code",
   "execution_count": 6,
   "metadata": {},
   "outputs": [
    {
     "name": "stderr",
     "output_type": "stream",
     "text": [
      "Using Theano backend.\n"
     ]
    }
   ],
   "source": [
    "from keras import layers\n",
    "from keras import models\n",
    "model = models.Sequential()\n",
    "model.add(layers.Conv2D(32, (3, 3), activation='relu',\n",
    "input_shape=(150, 150, 3)))\n",
    "model.add(layers.MaxPooling2D((2, 2)))\n",
    "model.add(layers.Conv2D(64, (3, 3), activation='relu'))\n",
    "model.add(layers.MaxPooling2D((2, 2)))\n",
    "model.add(layers.Conv2D(128, (3, 3), activation='relu'))\n",
    "model.add(layers.MaxPooling2D((2, 2)))\n",
    "model.add(layers.Conv2D(128, (3, 3), activation='relu'))\n",
    "model.add(layers.MaxPooling2D((2, 2)))\n",
    "model.add(layers.Flatten())\n",
    "model.add(layers.Dense(512, activation='relu'))\n",
    "model.add(layers.Dense(1, activation='sigmoid'))"
   ]
  },
  {
   "cell_type": "code",
   "execution_count": 7,
   "metadata": {},
   "outputs": [
    {
     "name": "stdout",
     "output_type": "stream",
     "text": [
      "_________________________________________________________________\n",
      "Layer (type)                 Output Shape              Param #   \n",
      "=================================================================\n",
      "conv2d_1 (Conv2D)            (None, 148, 148, 32)      896       \n",
      "_________________________________________________________________\n",
      "max_pooling2d_1 (MaxPooling2 (None, 74, 74, 32)        0         \n",
      "_________________________________________________________________\n",
      "conv2d_2 (Conv2D)            (None, 72, 72, 64)        18496     \n",
      "_________________________________________________________________\n",
      "max_pooling2d_2 (MaxPooling2 (None, 36, 36, 64)        0         \n",
      "_________________________________________________________________\n",
      "conv2d_3 (Conv2D)            (None, 34, 34, 128)       73856     \n",
      "_________________________________________________________________\n",
      "max_pooling2d_3 (MaxPooling2 (None, 17, 17, 128)       0         \n",
      "_________________________________________________________________\n",
      "conv2d_4 (Conv2D)            (None, 15, 15, 128)       147584    \n",
      "_________________________________________________________________\n",
      "max_pooling2d_4 (MaxPooling2 (None, 7, 7, 128)         0         \n",
      "_________________________________________________________________\n",
      "flatten_1 (Flatten)          (None, 6272)              0         \n",
      "_________________________________________________________________\n",
      "dense_1 (Dense)              (None, 512)               3211776   \n",
      "_________________________________________________________________\n",
      "dense_2 (Dense)              (None, 1)                 513       \n",
      "=================================================================\n",
      "Total params: 3,453,121\n",
      "Trainable params: 3,453,121\n",
      "Non-trainable params: 0\n",
      "_________________________________________________________________\n"
     ]
    }
   ],
   "source": [
    "model.summary()"
   ]
  },
  {
   "cell_type": "code",
   "execution_count": 8,
   "metadata": {},
   "outputs": [],
   "source": [
    "from keras import optimizers\n",
    "model.compile(loss='binary_crossentropy',\n",
    "optimizer=optimizers.RMSprop(lr=1e-4),\n",
    "metrics=['acc'])\n"
   ]
  },
  {
   "cell_type": "code",
   "execution_count": 9,
   "metadata": {},
   "outputs": [
    {
     "name": "stdout",
     "output_type": "stream",
     "text": [
      "Found 2000 images belonging to 2 classes.\n",
      "Found 1000 images belonging to 2 classes.\n"
     ]
    }
   ],
   "source": [
    "from keras.preprocessing.image import ImageDataGenerator\n",
    "train_datagen = ImageDataGenerator(rescale=1./255)\n",
    "test_datagen = ImageDataGenerator(rescale=1./255)\n",
    "train_generator = train_datagen.flow_from_directory(\n",
    "    train_dir,\n",
    "    target_size=(150, 150),\n",
    "    batch_size=20,\n",
    "    class_mode='binary')\n",
    "validation_generator = test_datagen.flow_from_directory(\n",
    "validation_dir,\n",
    "    target_size=(150, 150),\n",
    "batch_size=20,\n",
    "class_mode='binary')"
   ]
  },
  {
   "cell_type": "code",
   "execution_count": 10,
   "metadata": {},
   "outputs": [
    {
     "name": "stdout",
     "output_type": "stream",
     "text": [
      "Epoch 1/30\n",
      "100/100 [==============================] - 72s 719ms/step - loss: 0.6874 - acc: 0.5305 - val_loss: 0.6824 - val_acc: 0.5220\n",
      "Epoch 2/30\n",
      "100/100 [==============================] - 71s 706ms/step - loss: 0.6501 - acc: 0.6130 - val_loss: 0.6537 - val_acc: 0.6060\n",
      "Epoch 3/30\n",
      "100/100 [==============================] - 71s 713ms/step - loss: 0.6083 - acc: 0.6665 - val_loss: 0.6052 - val_acc: 0.6620\n",
      "Epoch 4/30\n",
      "100/100 [==============================] - 72s 721ms/step - loss: 0.5688 - acc: 0.7025 - val_loss: 0.5825 - val_acc: 0.6970\n",
      "Epoch 5/30\n",
      "100/100 [==============================] - 71s 713ms/step - loss: 0.5440 - acc: 0.7345 - val_loss: 0.5740 - val_acc: 0.6980\n",
      "Epoch 6/30\n",
      "100/100 [==============================] - 72s 725ms/step - loss: 0.5096 - acc: 0.7490 - val_loss: 0.5585 - val_acc: 0.7130\n",
      "Epoch 7/30\n",
      "100/100 [==============================] - 71s 708ms/step - loss: 0.4833 - acc: 0.7640 - val_loss: 0.5798 - val_acc: 0.7000\n",
      "Epoch 8/30\n",
      "100/100 [==============================] - 74s 738ms/step - loss: 0.4549 - acc: 0.7835 - val_loss: 0.5608 - val_acc: 0.7000\n",
      "Epoch 9/30\n",
      "100/100 [==============================] - 73s 732ms/step - loss: 0.4207 - acc: 0.8045 - val_loss: 0.5609 - val_acc: 0.7160\n",
      "Epoch 10/30\n",
      "100/100 [==============================] - 73s 735ms/step - loss: 0.3909 - acc: 0.8240 - val_loss: 0.6170 - val_acc: 0.7090\n",
      "Epoch 11/30\n",
      "100/100 [==============================] - 74s 743ms/step - loss: 0.3602 - acc: 0.8450 - val_loss: 0.5317 - val_acc: 0.7230\n",
      "Epoch 12/30\n",
      "100/100 [==============================] - 72s 721ms/step - loss: 0.3415 - acc: 0.8525 - val_loss: 0.5205 - val_acc: 0.7420\n",
      "Epoch 13/30\n",
      "100/100 [==============================] - 71s 711ms/step - loss: 0.3145 - acc: 0.8570 - val_loss: 0.6101 - val_acc: 0.7230\n",
      "Epoch 14/30\n",
      "100/100 [==============================] - 71s 706ms/step - loss: 0.2883 - acc: 0.8785 - val_loss: 0.5302 - val_acc: 0.7320\n",
      "Epoch 15/30\n",
      "100/100 [==============================] - 72s 717ms/step - loss: 0.2617 - acc: 0.8975 - val_loss: 0.5399 - val_acc: 0.7480\n",
      "Epoch 16/30\n",
      "100/100 [==============================] - 71s 711ms/step - loss: 0.2372 - acc: 0.9045 - val_loss: 0.6112 - val_acc: 0.7270\n",
      "Epoch 17/30\n",
      "100/100 [==============================] - 71s 711ms/step - loss: 0.2159 - acc: 0.9125 - val_loss: 0.6414 - val_acc: 0.7300\n",
      "Epoch 18/30\n",
      "100/100 [==============================] - 72s 718ms/step - loss: 0.1968 - acc: 0.9280 - val_loss: 0.6076 - val_acc: 0.7430\n",
      "Epoch 19/30\n",
      "100/100 [==============================] - 72s 721ms/step - loss: 0.1806 - acc: 0.9290 - val_loss: 0.5842 - val_acc: 0.7490\n",
      "Epoch 20/30\n",
      "100/100 [==============================] - 73s 728ms/step - loss: 0.1552 - acc: 0.9470 - val_loss: 0.6638 - val_acc: 0.7450\n",
      "Epoch 21/30\n",
      "100/100 [==============================] - 71s 714ms/step - loss: 0.1371 - acc: 0.9540 - val_loss: 0.6978 - val_acc: 0.7580\n",
      "Epoch 22/30\n",
      "100/100 [==============================] - 71s 714ms/step - loss: 0.1241 - acc: 0.9560 - val_loss: 0.7550 - val_acc: 0.7290\n",
      "Epoch 23/30\n",
      "100/100 [==============================] - 71s 715ms/step - loss: 0.1058 - acc: 0.9670 - val_loss: 0.8144 - val_acc: 0.7230\n",
      "Epoch 24/30\n",
      "100/100 [==============================] - 71s 715ms/step - loss: 0.0891 - acc: 0.9745 - val_loss: 0.7895 - val_acc: 0.7370\n",
      "Epoch 25/30\n",
      "100/100 [==============================] - 71s 715ms/step - loss: 0.0805 - acc: 0.9750 - val_loss: 0.7526 - val_acc: 0.7390\n",
      "Epoch 26/30\n",
      "100/100 [==============================] - 71s 713ms/step - loss: 0.0712 - acc: 0.9770 - val_loss: 0.8213 - val_acc: 0.7510\n",
      "Epoch 27/30\n",
      "100/100 [==============================] - 72s 722ms/step - loss: 0.0597 - acc: 0.9830 - val_loss: 0.8354 - val_acc: 0.7490\n",
      "Epoch 28/30\n",
      "100/100 [==============================] - 75s 749ms/step - loss: 0.0514 - acc: 0.9840 - val_loss: 0.8685 - val_acc: 0.7490\n",
      "Epoch 29/30\n",
      "100/100 [==============================] - 77s 768ms/step - loss: 0.0444 - acc: 0.9895 - val_loss: 1.0007 - val_acc: 0.7400\n",
      "Epoch 30/30\n",
      "100/100 [==============================] - 72s 716ms/step - loss: 0.0358 - acc: 0.9920 - val_loss: 1.0224 - val_acc: 0.7530\n"
     ]
    }
   ],
   "source": [
    "history = model.fit_generator(\n",
    "    train_generator,\n",
    "    steps_per_epoch=100,\n",
    "    epochs=30,\n",
    "    validation_data=validation_generator,\n",
    "    validation_steps=50)"
   ]
  },
  {
   "cell_type": "code",
   "execution_count": 11,
   "metadata": {},
   "outputs": [],
   "source": [
    "model.save('cats_and_dogs_small_1.h5')"
   ]
  },
  {
   "cell_type": "code",
   "execution_count": null,
   "metadata": {},
   "outputs": [],
   "source": []
  }
 ],
 "metadata": {
  "kernelspec": {
   "display_name": "Python 3",
   "language": "python",
   "name": "python3"
  },
  "language_info": {
   "codemirror_mode": {
    "name": "ipython",
    "version": 3
   },
   "file_extension": ".py",
   "mimetype": "text/x-python",
   "name": "python",
   "nbconvert_exporter": "python",
   "pygments_lexer": "ipython3",
   "version": "3.6.7"
  }
 },
 "nbformat": 4,
 "nbformat_minor": 2
}
