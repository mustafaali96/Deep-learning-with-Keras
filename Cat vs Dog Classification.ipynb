{
 "cells": [
  {
   "cell_type": "code",
   "execution_count": 1,
   "metadata": {},
   "outputs": [],
   "source": [
    "import os, shutil"
   ]
  },
  {
   "cell_type": "code",
   "execution_count": 2,
   "metadata": {},
   "outputs": [],
   "source": [
    "original_dataset_dir = 'C:\\\\Users\\Mustafa'"
   ]
  },
  {
   "cell_type": "code",
   "execution_count": 3,
   "metadata": {},
   "outputs": [],
   "source": [
    "base_dir = 'C:\\\\Users\\Mustafa\\cat_dog'\n"
   ]
  },
  {
   "cell_type": "code",
   "execution_count": 4,
   "metadata": {},
   "outputs": [],
   "source": [
    "train_dir = os.path.join(base_dir, 'train')"
   ]
  },
  {
   "cell_type": "code",
   "execution_count": 5,
   "metadata": {},
   "outputs": [],
   "source": [
    "validation_dir = os.path.join(base_dir, 'validation')\n",
    "test_dir = os.path.join(base_dir, 'test')"
   ]
  },
  {
   "cell_type": "code",
   "execution_count": 6,
   "metadata": {},
   "outputs": [
    {
     "name": "stderr",
     "output_type": "stream",
     "text": [
      "Using TensorFlow backend.\n"
     ]
    }
   ],
   "source": [
    "from keras import layers\n",
    "from keras import models\n",
    "model = models.Sequential()\n",
    "model.add(layers.Conv2D(32, (3, 3), activation='relu',\n",
    "input_shape=(150, 150, 3)))\n",
    "model.add(layers.MaxPooling2D((2, 2)))\n",
    "model.add(layers.Conv2D(64, (3, 3), activation='relu'))\n",
    "model.add(layers.MaxPooling2D((2, 2)))\n",
    "model.add(layers.Conv2D(128, (3, 3), activation='relu'))\n",
    "model.add(layers.MaxPooling2D((2, 2)))\n",
    "model.add(layers.Conv2D(128, (3, 3), activation='relu'))\n",
    "model.add(layers.MaxPooling2D((2, 2)))\n",
    "model.add(layers.Flatten())\n",
    "model.add(layers.Dense(512, activation='relu'))\n",
    "model.add(layers.Dense(1, activation='sigmoid'))"
   ]
  },
  {
   "cell_type": "code",
   "execution_count": 7,
   "metadata": {},
   "outputs": [
    {
     "name": "stdout",
     "output_type": "stream",
     "text": [
      "_________________________________________________________________\n",
      "Layer (type)                 Output Shape              Param #   \n",
      "=================================================================\n",
      "conv2d_1 (Conv2D)            (None, 148, 148, 32)      896       \n",
      "_________________________________________________________________\n",
      "max_pooling2d_1 (MaxPooling2 (None, 74, 74, 32)        0         \n",
      "_________________________________________________________________\n",
      "conv2d_2 (Conv2D)            (None, 72, 72, 64)        18496     \n",
      "_________________________________________________________________\n",
      "max_pooling2d_2 (MaxPooling2 (None, 36, 36, 64)        0         \n",
      "_________________________________________________________________\n",
      "conv2d_3 (Conv2D)            (None, 34, 34, 128)       73856     \n",
      "_________________________________________________________________\n",
      "max_pooling2d_3 (MaxPooling2 (None, 17, 17, 128)       0         \n",
      "_________________________________________________________________\n",
      "conv2d_4 (Conv2D)            (None, 15, 15, 128)       147584    \n",
      "_________________________________________________________________\n",
      "max_pooling2d_4 (MaxPooling2 (None, 7, 7, 128)         0         \n",
      "_________________________________________________________________\n",
      "flatten_1 (Flatten)          (None, 6272)              0         \n",
      "_________________________________________________________________\n",
      "dense_1 (Dense)              (None, 512)               3211776   \n",
      "_________________________________________________________________\n",
      "dense_2 (Dense)              (None, 1)                 513       \n",
      "=================================================================\n",
      "Total params: 3,453,121\n",
      "Trainable params: 3,453,121\n",
      "Non-trainable params: 0\n",
      "_________________________________________________________________\n"
     ]
    }
   ],
   "source": [
    "model.summary()"
   ]
  },
  {
   "cell_type": "code",
   "execution_count": 8,
   "metadata": {},
   "outputs": [],
   "source": [
    "from keras import optimizers\n",
    "model.compile(loss='binary_crossentropy',\n",
    "optimizer=optimizers.RMSprop(lr=1e-4),\n",
    "metrics=['acc'])\n"
   ]
  },
  {
   "cell_type": "code",
   "execution_count": 9,
   "metadata": {},
   "outputs": [
    {
     "name": "stdout",
     "output_type": "stream",
     "text": [
      "Found 2000 images belonging to 2 classes.\n",
      "Found 1000 images belonging to 2 classes.\n"
     ]
    }
   ],
   "source": [
    "from keras.preprocessing.image import ImageDataGenerator\n",
    "train_datagen = ImageDataGenerator(rescale=1./255)\n",
    "test_datagen = ImageDataGenerator(rescale=1./255)\n",
    "train_generator = train_datagen.flow_from_directory(\n",
    "    train_dir,\n",
    "    target_size=(150, 150),\n",
    "    batch_size=20,\n",
    "    class_mode='binary')\n",
    "validation_generator = test_datagen.flow_from_directory(\n",
    "validation_dir,\n",
    "    target_size=(150, 150),\n",
    "batch_size=20,\n",
    "class_mode='binary')"
   ]
  },
  {
   "cell_type": "code",
   "execution_count": 10,
   "metadata": {},
   "outputs": [
    {
     "name": "stdout",
     "output_type": "stream",
     "text": [
      "Epoch 1/30\n",
      "100/100 [==============================] - 12s 124ms/step - loss: 0.6882 - acc: 0.5455 - val_loss: 0.6692 - val_acc: 0.6050\n",
      "Epoch 2/30\n",
      "100/100 [==============================] - 5s 50ms/step - loss: 0.6544 - acc: 0.6020 - val_loss: 0.6240 - val_acc: 0.6760\n",
      "Epoch 3/30\n",
      "100/100 [==============================] - 5s 49ms/step - loss: 0.6062 - acc: 0.6740 - val_loss: 0.5934 - val_acc: 0.6820\n",
      "Epoch 4/30\n",
      "100/100 [==============================] - 5s 50ms/step - loss: 0.5661 - acc: 0.7035 - val_loss: 0.5802 - val_acc: 0.6890\n",
      "Epoch 5/30\n",
      "100/100 [==============================] - 5s 50ms/step - loss: 0.5365 - acc: 0.7305 - val_loss: 0.5643 - val_acc: 0.7050\n",
      "Epoch 6/30\n",
      "100/100 [==============================] - 5s 49ms/step - loss: 0.5236 - acc: 0.7455 - val_loss: 0.6329 - val_acc: 0.6350\n",
      "Epoch 7/30\n",
      "100/100 [==============================] - 5s 50ms/step - loss: 0.4938 - acc: 0.7595 - val_loss: 0.5794 - val_acc: 0.6970\n",
      "Epoch 8/30\n",
      "100/100 [==============================] - 5s 50ms/step - loss: 0.4734 - acc: 0.7730 - val_loss: 0.5473 - val_acc: 0.7150\n",
      "Epoch 9/30\n",
      "100/100 [==============================] - 5s 50ms/step - loss: 0.4481 - acc: 0.7995 - val_loss: 0.5523 - val_acc: 0.7160\n",
      "Epoch 10/30\n",
      "100/100 [==============================] - 5s 50ms/step - loss: 0.4264 - acc: 0.8055 - val_loss: 0.5229 - val_acc: 0.7320\n",
      "Epoch 11/30\n",
      "100/100 [==============================] - 5s 50ms/step - loss: 0.4047 - acc: 0.8125 - val_loss: 0.5251 - val_acc: 0.7420\n",
      "Epoch 12/30\n",
      "100/100 [==============================] - 5s 50ms/step - loss: 0.3795 - acc: 0.8380 - val_loss: 0.6409 - val_acc: 0.6780\n",
      "Epoch 13/30\n",
      "100/100 [==============================] - 5s 50ms/step - loss: 0.3611 - acc: 0.8445 - val_loss: 0.5436 - val_acc: 0.7280\n",
      "Epoch 14/30\n",
      "100/100 [==============================] - 5s 50ms/step - loss: 0.3372 - acc: 0.8585 - val_loss: 0.5931 - val_acc: 0.7280\n",
      "Epoch 15/30\n",
      "100/100 [==============================] - 5s 50ms/step - loss: 0.3166 - acc: 0.8695 - val_loss: 0.5492 - val_acc: 0.7350\n",
      "Epoch 16/30\n",
      "100/100 [==============================] - 5s 50ms/step - loss: 0.2997 - acc: 0.8750 - val_loss: 0.5426 - val_acc: 0.7390\n",
      "Epoch 17/30\n",
      "100/100 [==============================] - 5s 49ms/step - loss: 0.2779 - acc: 0.8810 - val_loss: 0.5407 - val_acc: 0.7410\n",
      "Epoch 18/30\n",
      "100/100 [==============================] - 5s 50ms/step - loss: 0.2561 - acc: 0.8960 - val_loss: 0.5770 - val_acc: 0.7540\n",
      "Epoch 19/30\n",
      "100/100 [==============================] - 5s 50ms/step - loss: 0.2409 - acc: 0.9065 - val_loss: 0.5886 - val_acc: 0.7420\n",
      "Epoch 20/30\n",
      "100/100 [==============================] - 5s 50ms/step - loss: 0.2223 - acc: 0.9140 - val_loss: 0.6008 - val_acc: 0.7360\n",
      "Epoch 21/30\n",
      "100/100 [==============================] - 5s 52ms/step - loss: 0.2064 - acc: 0.9230 - val_loss: 0.6812 - val_acc: 0.7160\n",
      "Epoch 22/30\n",
      "100/100 [==============================] - 5s 52ms/step - loss: 0.1833 - acc: 0.9355 - val_loss: 0.5970 - val_acc: 0.7490\n",
      "Epoch 23/30\n",
      "100/100 [==============================] - 5s 52ms/step - loss: 0.1687 - acc: 0.9395 - val_loss: 0.6705 - val_acc: 0.7350\n",
      "Epoch 24/30\n",
      "100/100 [==============================] - 5s 50ms/step - loss: 0.1528 - acc: 0.9460 - val_loss: 0.6931 - val_acc: 0.7380\n",
      "Epoch 25/30\n",
      "100/100 [==============================] - 5s 50ms/step - loss: 0.1385 - acc: 0.9570 - val_loss: 0.6798 - val_acc: 0.7380\n",
      "Epoch 26/30\n",
      "100/100 [==============================] - 5s 50ms/step - loss: 0.1246 - acc: 0.9620 - val_loss: 0.7695 - val_acc: 0.7240\n",
      "Epoch 27/30\n",
      "100/100 [==============================] - 5s 50ms/step - loss: 0.1071 - acc: 0.9700 - val_loss: 0.8240 - val_acc: 0.7420\n",
      "Epoch 28/30\n",
      "100/100 [==============================] - 5s 50ms/step - loss: 0.0983 - acc: 0.9715 - val_loss: 0.7013 - val_acc: 0.7500\n",
      "Epoch 29/30\n",
      "100/100 [==============================] - 5s 50ms/step - loss: 0.0870 - acc: 0.9720 - val_loss: 0.7471 - val_acc: 0.7510\n",
      "Epoch 30/30\n",
      "100/100 [==============================] - 5s 50ms/step - loss: 0.0698 - acc: 0.9795 - val_loss: 0.8206 - val_acc: 0.7390\n"
     ]
    }
   ],
   "source": [
    "history = model.fit_generator(\n",
    "    train_generator,\n",
    "    steps_per_epoch=100,\n",
    "    epochs=30,\n",
    "    validation_data=validation_generator,\n",
    "    validation_steps=50)"
   ]
  },
  {
   "cell_type": "code",
   "execution_count": 11,
   "metadata": {},
   "outputs": [],
   "source": [
    "model.save('cats_and_dogs_small_1.h5')"
   ]
  },
  {
   "cell_type": "code",
   "execution_count": null,
   "metadata": {},
   "outputs": [],
   "source": []
  }
 ],
 "metadata": {
  "kernelspec": {
   "display_name": "Python 3",
   "language": "python",
   "name": "python3"
  },
  "language_info": {
   "codemirror_mode": {
    "name": "ipython",
    "version": 3
   },
   "file_extension": ".py",
   "mimetype": "text/x-python",
   "name": "python",
   "nbconvert_exporter": "python",
   "pygments_lexer": "ipython3",
   "version": "3.6.7"
  }
 },
 "nbformat": 4,
 "nbformat_minor": 2
}
